{
 "cells": [
  {
   "cell_type": "markdown",
   "id": "ed83cc9a-e728-45e7-bc42-a63ee8b2e35a",
   "metadata": {},
   "source": [
    "# MNIST_Autoencoder"
   ]
  },
  {
   "cell_type": "code",
   "execution_count": 2,
   "id": "83916c42-20af-4718-b6a4-1fb3913205a4",
   "metadata": {},
   "outputs": [],
   "source": [
    "import tensorflow as tf\n",
    "from tensorflow.keras import layers, models\n",
    "import matplotlib.pyplot as plt\n",
    "import warnings\n",
    "warnings.filterwarnings(\"ignore\", category=UserWarning, module=\"google.protobuf\")\n",
    "\n",
    "\n"
   ]
  },
  {
   "cell_type": "code",
   "execution_count": 3,
   "id": "54eca868-8f28-47a3-b70f-c3df08429ecb",
   "metadata": {},
   "outputs": [],
   "source": [
    "(x_train, _), (x_test, _) = tf.keras.datasets.mnist.load_data()\n",
    "x_train = x_train.astype(\"float32\") / 255.0\n",
    "x_test = x_test.astype(\"float32\") / 255.0\n",
    "\n",
    "x_train = x_train.reshape(len(x_train), 784)\n",
    "x_test = x_test.reshape(len(x_test), 784)"
   ]
  },
  {
   "cell_type": "code",
   "execution_count": 4,
   "id": "2937bbbb-cc32-48e9-9d24-992eab1bc589",
   "metadata": {},
   "outputs": [],
   "source": [
    "encoder = models.Sequential([\n",
    "    layers.Input(shape=(784,)),\n",
    "    layers.Dense(128, activation=\"relu\"),\n",
    "    layers.Dense(32, activation=\"relu\")   \n",
    "])"
   ]
  },
  {
   "cell_type": "code",
   "execution_count": 5,
   "id": "8b694930-1f90-4b06-8443-1f9344f6e3e5",
   "metadata": {},
   "outputs": [],
   "source": [
    "decoder = models.Sequential([\n",
    "    layers.Input(shape=(32,)),\n",
    "    layers.Dense(128, activation=\"relu\"),\n",
    "    layers.Dense(784, activation=\"sigmoid\")\n",
    "])"
   ]
  },
  {
   "cell_type": "code",
   "execution_count": 6,
   "id": "3bba3de1-db7f-41b9-bc3b-e6bd9359b07d",
   "metadata": {},
   "outputs": [],
   "source": [
    "autoencoder = models.Sequential([encoder, decoder])\n",
    "autoencoder.compile(optimizer=\"adam\", loss=\"mse\")\n",
    "\n"
   ]
  },
  {
   "cell_type": "code",
   "execution_count": 7,
   "id": "36a0c494-a44f-4aca-aca8-6a9945e76d32",
   "metadata": {},
   "outputs": [
    {
     "name": "stdout",
     "output_type": "stream",
     "text": [
      "Epoch 1/5\n",
      "\u001b[1m235/235\u001b[0m \u001b[32m━━━━━━━━━━━━━━━━━━━━\u001b[0m\u001b[37m\u001b[0m \u001b[1m9s\u001b[0m 17ms/step - loss: 0.0601 - val_loss: 0.0338\n",
      "Epoch 2/5\n",
      "\u001b[1m235/235\u001b[0m \u001b[32m━━━━━━━━━━━━━━━━━━━━\u001b[0m\u001b[37m\u001b[0m \u001b[1m4s\u001b[0m 15ms/step - loss: 0.0264 - val_loss: 0.0210\n",
      "Epoch 3/5\n",
      "\u001b[1m235/235\u001b[0m \u001b[32m━━━━━━━━━━━━━━━━━━━━\u001b[0m\u001b[37m\u001b[0m \u001b[1m3s\u001b[0m 14ms/step - loss: 0.0193 - val_loss: 0.0172\n",
      "Epoch 4/5\n",
      "\u001b[1m235/235\u001b[0m \u001b[32m━━━━━━━━━━━━━━━━━━━━\u001b[0m\u001b[37m\u001b[0m \u001b[1m3s\u001b[0m 14ms/step - loss: 0.0167 - val_loss: 0.0154\n",
      "Epoch 5/5\n",
      "\u001b[1m235/235\u001b[0m \u001b[32m━━━━━━━━━━━━━━━━━━━━\u001b[0m\u001b[37m\u001b[0m \u001b[1m4s\u001b[0m 14ms/step - loss: 0.0152 - val_loss: 0.0141\n"
     ]
    },
    {
     "data": {
      "text/plain": [
       "<keras.src.callbacks.history.History at 0x1f50000b770>"
      ]
     },
     "execution_count": 7,
     "metadata": {},
     "output_type": "execute_result"
    }
   ],
   "source": [
    "autoencoder.fit(x_train, x_train,\n",
    "                epochs=5,\n",
    "                batch_size=256,\n",
    "                validation_data=(x_test, x_test))"
   ]
  },
  {
   "cell_type": "code",
   "execution_count": 8,
   "id": "0c931011-138b-49bf-a1f5-8871585b470f",
   "metadata": {},
   "outputs": [
    {
     "name": "stdout",
     "output_type": "stream",
     "text": [
      "\u001b[1m1/1\u001b[0m \u001b[32m━━━━━━━━━━━━━━━━━━━━\u001b[0m\u001b[37m\u001b[0m \u001b[1m0s\u001b[0m 198ms/step\n",
      "\u001b[1m1/1\u001b[0m \u001b[32m━━━━━━━━━━━━━━━━━━━━\u001b[0m\u001b[37m\u001b[0m \u001b[1m0s\u001b[0m 299ms/step\n"
     ]
    }
   ],
   "source": [
    "encoded_imgs = encoder.predict(x_test[:5])\n",
    "decoded_imgs = autoencoder.predict(x_test[:5])"
   ]
  },
  {
   "cell_type": "code",
   "execution_count": 9,
   "id": "59d984a4-8e27-4c48-8f6e-abcdbe566b40",
   "metadata": {},
   "outputs": [
    {
     "data": {
      "image/png": "[encoded data removed]",
      "text/plain": [
       "<Figure size 1000x400 with 10 Axes>"
      ]
     },
     "metadata": {},
     "output_type": "display_data"
    }
   ],
   "source": [
    "n = 5\n",
    "plt.figure(figsize=(10, 4))\n",
    "for i in range(n):\n",
    "    # Original\n",
    "    ax = plt.subplot(2, n, i+1)\n",
    "    plt.imshow(x_test[i].reshape(28,28), cmap=\"gray\")\n",
    "    plt.axis(\"off\")\n",
    "    \n",
    "    # Reconstructed\n",
    "    ax = plt.subplot(2, n, i+1+n)\n",
    "    plt.imshow(decoded_imgs[i].reshape(28,28), cmap=\"gray\")\n",
    "    plt.axis(\"off\")\n",
    "\n",
    "plt.show()"
   ]
  },
  {
   "cell_type": "markdown",
   "id": "ce80caeb-44e3-443f-a33e-5735c9d96fc9",
   "metadata": {},
   "source": [
    "## Conclusion\n",
    "\n",
    "In this notebook, we built an autoencoder using neural networks. The encoder compressed the 784-pixel image into a smaller representation (latent space), and the decoder reconstructed the image back from this compressed form.The idea behind doing this is to learn meaningful features of the data without labels. By forcing the model to compress and then rebuild the image, it learns patterns such as strokes and shapes of digits.From the results, we can see that the reconstructed digits look very close to the original inputs, which shows that the autoencoder was able to capture the important information in the images while ignoring extra noise.In simple words, we trained a model that can take handwritten digits, shrink them into a compact form, and still recover the original image. This concept is useful in tasks like image denoising, dimensionality reduction, anomaly detection, and feature learning."
   ]
  }
 ],
 "metadata": {
  "kernelspec": {
   "display_name": "Python 3 (ipykernel)",
   "language": "python",
   "name": "python3"
  },
  "language_info": {
   "codemirror_mode": {
    "name": "ipython",
    "version": 3
   },
   "file_extension": ".py",
   "mimetype": "text/x-python",
   "name": "python",
   "nbconvert_exporter": "python",
   "pygments_lexer": "ipython3",
   "version": "3.13.5"
  }
 },
 "nbformat": 4,
 "nbformat_minor": 5
}
