{
 "cells": [
  {
   "cell_type": "markdown",
   "id": "d0376be6-64e8-4c06-87ef-290c3d42882a",
   "metadata": {},
   "source": [
    "## Sentiment Analysis with NLP"
   ]
  },
  {
   "cell_type": "code",
   "execution_count": 2,
   "id": "3c22fb49-fcad-4b20-8de6-cc65ca38591f",
   "metadata": {
    "scrolled": true
   },
   "outputs": [],
   "source": [
    "from transformers import pipeline"
   ]
  },
  {
   "cell_type": "code",
   "execution_count": 3,
   "id": "fefc8d74-0194-479a-bf0a-7b204eb51092",
   "metadata": {},
   "outputs": [
    {
     "name": "stderr",
     "output_type": "stream",
     "text": [
      "Xet Storage is enabled for this repo, but the 'hf_xet' package is not installed. Falling back to regular HTTP download. For better performance, install the package with: `pip install huggingface_hub[hf_xet]` or `pip install hf_xet`\n",
      "C:\\Users\\Nikhil Sukthe\\AppData\\Local\\Programs\\Python\\Python313\\Lib\\site-packages\\huggingface_hub\\file_download.py:143: UserWarning: `huggingface_hub` cache-system uses symlinks by default to efficiently store duplicated files but your machine does not support them in C:\\Users\\Nikhil Sukthe\\.cache\\huggingface\\hub\\models--distilbert-base-uncased-finetuned-sst-2-english. Caching files will still work but in a degraded version that might require more space on your disk. This warning can be disabled by setting the `HF_HUB_DISABLE_SYMLINKS_WARNING` environment variable. For more details, see https://huggingface.co/docs/huggingface_hub/how-to-cache#limitations.\n",
      "To support symlinks on Windows, you either need to activate Developer Mode or to run Python as an administrator. In order to activate developer mode, see this article: https://docs.microsoft.com/en-us/windows/apps/get-started/enable-your-device-for-development\n",
      "  warnings.warn(message)\n",
      "Device set to use cpu\n"
     ]
    }
   ],
   "source": [
    "model_name = \"distilbert-base-uncased-finetuned-sst-2-english\"\n",
    "\n",
    "sentiment_pipeline = pipeline(\"sentiment-analysis\", model=model_name, framework=\"pt\")"
   ]
  },
  {
   "cell_type": "code",
   "execution_count": 4,
   "id": "98f28846-71fa-4b95-8767-63807655915f",
   "metadata": {},
   "outputs": [],
   "source": [
    "texts = [\n",
    "    \"I love this product! It works perfectly.\",\n",
    "    \"This is the worst experience I ever had.\",\n",
    "    \"The movie was okay, not too good, not too bad.\"\n",
    "]"
   ]
  },
  {
   "cell_type": "code",
   "execution_count": 5,
   "id": "6f3206e2-a72d-4b36-b3b5-f5913a7553e1",
   "metadata": {},
   "outputs": [
    {
     "name": "stdout",
     "output_type": "stream",
     "text": [
      "Text: I love this product! It works perfectly.\n",
      "Sentiment: POSITIVE, Confidence: 0.9999\n",
      "\n",
      "Text: This is the worst experience I ever had.\n",
      "Sentiment: NEGATIVE, Confidence: 0.9998\n",
      "\n",
      "Text: The movie was okay, not too good, not too bad.\n",
      "Sentiment: POSITIVE, Confidence: 0.5608\n",
      "\n"
     ]
    }
   ],
   "source": [
    "for text in texts:\n",
    "    result = sentiment_pipeline(text)[0]\n",
    "    print(f\"Text: {text}\")\n",
    "    print(f\"Sentiment: {result['label']}, Confidence: {result['score']:.4f}\\n\")\n"
   ]
  },
  {
   "cell_type": "code",
   "execution_count": null,
   "id": "087dcfcc-8b19-418e-bf2b-55ee28ede945",
   "metadata": {},
   "outputs": [],
   "source": [
    "### Conclusion\n",
    "\n",
    "Through this task, I explored how Natural Language Processing (NLP) can be applied to understand human language, specifically by performing sentiment analysis. Using a transformer-based model, I was able to classify text into positive or negative sentiments with confidence scores. This demonstrated the practical use of pre-trained models, where complex language understanding can be achieved with just a few lines of code. The exercise also showed how NLP can be directly applied to real-world scenarios such as product reviews, customer feedback, and social media analysis. This gives a strong base to move forward into more advanced NLP applications like summarization, translation, and question answering."
   ]
  }
 ],
 "metadata": {
  "kernelspec": {
   "display_name": "Python 3 (ipykernel)",
   "language": "python",
   "name": "python3"
  },
  "language_info": {
   "codemirror_mode": {
    "name": "ipython",
    "version": 3
   },
   "file_extension": ".py",
   "mimetype": "text/x-python",
   "name": "python",
   "nbconvert_exporter": "python",
   "pygments_lexer": "ipython3",
   "version": "3.13.5"
  }
 },
 "nbformat": 4,
 "nbformat_minor": 5
}
